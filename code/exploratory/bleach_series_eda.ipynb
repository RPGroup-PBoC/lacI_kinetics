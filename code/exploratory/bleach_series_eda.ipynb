{
 "cells": [
  {
   "cell_type": "code",
   "execution_count": null,
   "metadata": {},
   "outputs": [],
   "source": [
    "%load_ext autoreload\n",
    "%autoreload 2\n",
    "%load_ext blackcellmagic\n",
    "\n",
    "import glob\n",
    "import numpy as np\n",
    "import scipy.optimize\n",
    "import pandas as pd\n",
    "\n",
    "import skimage.io\n",
    "import skimage.filters\n",
    "\n",
    "import bokeh.plotting\n",
    "import holoviews as hv\n",
    "hv.extension('bokeh')\n",
    "import panel as pn\n",
    "\n",
    "import bebi103.image\n",
    "import lac"
   ]
  },
  {
   "cell_type": "markdown",
   "metadata": {},
   "source": [
    "## Testing filtering of bleaching time series movies\n",
    "Two questions to address here.\n",
    " - Both iXon cameras have a slow timescale drift, affecting the entire image. Can we remove this by simply subtracting off the median of each frame?\n",
    " - What does our SNR look like, before & after a light-to-moderate Gaussian blur?\n",
    " \n",
    "First let's load a single time-series of images as a stack."
   ]
  },
  {
   "cell_type": "code",
   "execution_count": null,
   "metadata": {},
   "outputs": [],
   "source": [
    "root_data_path = \"/Users/muir/datasets/sm_lac/\"\n",
    "im_path = \"20200127/O1_0.4ngmL_TIRFobj_epi_1/Pos0/\"\n",
    "\n",
    "im_fname_list = sorted(glob.glob(root_data_path + im_path + \"*mNeon*.tif\"))\n",
    "im_bfname_list = sorted(glob.glob(root_data_path + im_path + \"*Brightfield*.tif\"))\n",
    "im_stack = skimage.io.imread_collection(im_fname_list)\n",
    "im_bfstack = skimage.io.imread_collection(im_bfname_list)"
   ]
  },
  {
   "cell_type": "markdown",
   "metadata": {},
   "source": [
    "Now with the images loaded, subtract off medians frame-by-frame. Then compute a Gaussian blur on this median subtracted image. Store them separately since I want to compare them visually."
   ]
  },
  {
   "cell_type": "code",
   "execution_count": null,
   "metadata": {},
   "outputs": [],
   "source": [
    "# preallocate storage for the median-subtracted & Gaussian-blurred stacks\n",
    "im_stack_med_sub = np.empty_like(im_stack, dtype=float)\n",
    "im_stack_gblur = np.empty_like(im_stack, dtype=float)\n",
    "for i, im in enumerate(im_stack):\n",
    "    im_stack_med_sub[i] = im_stack[i] - np.median(im_stack[i])\n",
    "    im_stack_gblur[i] = skimage.filters.gaussian(im_stack_med_sub[i], sigma=0.7)"
   ]
  },
  {
   "cell_type": "markdown",
   "metadata": {},
   "source": [
    "Next we'll show the median filtered vs. median filtered and Gaussian-blurred images side by side. A Panel slider widget selects what time point to show."
   ]
  },
  {
   "cell_type": "code",
   "execution_count": null,
   "metadata": {},
   "outputs": [],
   "source": [
    "time_slider = pn.widgets.IntSlider(name=\"time point\", start=0, end=len(im_stack))\n",
    "min_intens = 0\n",
    "max_intens = 4000\n",
    "\n",
    "# p = bokeh.plotting.figure()\n",
    "@pn.depends(time_slider.param.value)\n",
    "def show_ims(t):\n",
    "#     im = im_stack_med_sub[t]\n",
    "    z_scale = hv.Dimension(\"z\", range=(min_intens, max_intens))\n",
    "    layout = (hv.Image(im_stack_med_sub[t], vdims=z_scale)\n",
    "              + hv.Image(im_stack_gblur[t], vdims=z_scale))\n",
    "    return layout.opts(hv.opts.Image(height=600, width=600, tools=[\"hover\"],\n",
    "                                     colorbar=True, active_tools=['wheel_zoom']))"
   ]
  },
  {
   "cell_type": "code",
   "execution_count": null,
   "metadata": {},
   "outputs": [],
   "source": [
    "pn.Column(time_slider, show_ims)"
   ]
  },
  {
   "cell_type": "markdown",
   "metadata": {},
   "source": [
    "This actually looks fairly promising, even for the O1 construct in epi. I haven't even done a flatfield correction here. I think the SNR needs to be better, but we may not be way far off.\n",
    "\n",
    "My biggest concern here is spots that appear to be disappearing and reappearing on the few second timescale. Is this real, or is this b/c the cell prep on Jan 27 was sloppy (cells only weakly stuck to glass, sometimes flapping the in the wind)? Or is this just the natural intensity fluctuations of single fluorophores? Or is this laser intensity fluctuations, either from the diode itself or from loose optics/dust in the beam path?\n",
    "\n",
    "Or am I fooling myself and we're actually screwed? Are most of the spots I'm seeing actually a larger number of fluorophores and the single-molecule puncta are still hidden below noise? It's easy for the eye to be drawn to bright spots, but those highly expressing cells are exactly the ones we _don't_ want to consider here.\n",
    "\n",
    "Really ought to repeat this with cells more firmly attached to the surface to try & distinguish these possible causes."
   ]
  },
  {
   "cell_type": "markdown",
   "metadata": {},
   "source": [
    "### Next step\n",
    "After talking with HJ, I think the focus was way off in these movies and that this may be the cause of the fluctuating puncta brightness. Before we make decisions about switching to a new scope set up, we should repeat this test with better focus & see if the spot intensities are less variable. If they are less variable, we're probably best off staying with the Nikon & time-sharing. If they are still quite variable, we probably want to consider switching to a repurposed TPM Olympus so we can clean up the illumination beam w/ some combo of multimode fiber, diffuser, and lens array. The lack of PFS would suck, but it's not instantly a dealbreaker.\n",
    "\n",
    "To verify this, just take a quick look at brightfield images. Am I as far out of focal plane as I suspect?"
   ]
  },
  {
   "cell_type": "code",
   "execution_count": null,
   "metadata": {},
   "outputs": [],
   "source": [
    "time_slider = pn.widgets.IntSlider(name=\"time point\", start=0, end=len(im_bfstack))\n",
    "# min_intens = 0\n",
    "# max_intens = 4000\n",
    "\n",
    "# p = bokeh.plotting.figure()\n",
    "@pn.depends(time_slider.param.value)\n",
    "def show_ims(t):\n",
    "    im = im_bfstack[t]\n",
    "#     z_scale = hv.Dimension(\"z\", range=(min_intens, max_intens))\n",
    "#     layout = (hv.Image(im_stack_med_sub[t], vdims=z_scale)\n",
    "#               + hv.Image(im_stack_gblur[t], vdims=z_scale))\n",
    "#     return layout.opts(hv.opts.Image(height=600, width=600, tools=[\"hover\"],\n",
    "#                                      colorbar=True, active_tools=['wheel_zoom']))\n",
    "    return hv.Image(im).opts(height=600, width=600, tools=[\"hover\"], colorbar=True, active_tools=['wheel_zoom'])"
   ]
  },
  {
   "cell_type": "code",
   "execution_count": null,
   "metadata": {},
   "outputs": [],
   "source": [
    "pn.Column(time_slider, show_ims)"
   ]
  },
  {
   "cell_type": "markdown",
   "metadata": {},
   "source": [
    "Yup, according to HJ that is not at all what brightfield should look like."
   ]
  }
 ],
 "metadata": {
  "kernelspec": {
   "display_name": "Python 3",
   "language": "python",
   "name": "python3"
  },
  "language_info": {
   "codemirror_mode": {
    "name": "ipython",
    "version": 3
   },
   "file_extension": ".py",
   "mimetype": "text/x-python",
   "name": "python",
   "nbconvert_exporter": "python",
   "pygments_lexer": "ipython3",
   "version": "3.7.6"
  }
 },
 "nbformat": 4,
 "nbformat_minor": 4
}
